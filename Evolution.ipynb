{
  "nbformat": 4,
  "nbformat_minor": 0,
  "metadata": {
    "kernelspec": {
      "display_name": "Python 3",
      "language": "python",
      "name": "python3"
    },
    "language_info": {
      "codemirror_mode": {
        "name": "ipython",
        "version": 3
      },
      "file_extension": ".py",
      "mimetype": "text/x-python",
      "name": "python",
      "nbconvert_exporter": "python",
      "pygments_lexer": "ipython3",
      "version": "3.8.7"
    },
    "colab": {
      "name": "Evolution.ipynb",
      "provenance": [],
      "collapsed_sections": [],
      "include_colab_link": true
    }
  },
  "cells": [
    {
      "cell_type": "markdown",
      "metadata": {
        "id": "view-in-github",
        "colab_type": "text"
      },
      "source": [
        "<a href=\"https://colab.research.google.com/github/sarit-zombie/Anti_Pro_Social---Rewarding/blob/main/Evolution.ipynb\" target=\"_parent\"><img src=\"https://colab.research.google.com/assets/colab-badge.svg\" alt=\"Open In Colab\"/></a>"
      ]
    },
    {
      "cell_type": "code",
      "metadata": {
        "id": "8CX6Qe0oJi1m"
      },
      "source": [
        "import numpy as np\n",
        "import math\n",
        "import matplotlib.pyplot as plt\n",
        "from matplotlib.patches import Polygon\n",
        "%matplotlib inline"
      ],
      "execution_count": 3,
      "outputs": []
    },
    {
      "cell_type": "code",
      "metadata": {
        "id": "2oGIeQOdJi1q",
        "colab": {
          "base_uri": "https://localhost:8080/",
          "height": 134
        },
        "outputId": "ebc21d75-5076-4f2f-dfbe-f2d1d3966df5"
      },
      "source": [
        "# simulate\n",
        "\n",
        "import matplotlib.pyplot as plt\n",
        "%matplotlib inline\n",
        "\n",
        "xA = [0.25]  # D\n",
        "xB = [0.25]  # RD\n",
        "xC = [0.25]  # C\n",
        "xD = [0.25]  # RC\n",
        "\n",
        "N=5\n",
        "c1=1\n",
        "c2=1\n",
        "r1=3\n",
        "r2=1.1\n",
        "sigma = c1*(1-r1/N)\n",
        "P_A=[((r1*c1)/N)*((N-1)*(xC[0]+xD[0]))+(r2*c2)/(N*(xA[0]+xB[0]))*(xB[0]/(xA[0]+xB[0]))]\n",
        "P_B=[((r1*c1)/N)*((N-1)*(xC[0]+xD[0]))+((r2*c2)*(1-(1-((xC[0]+xD[0])**N))/(N*(xA[0]+xB[0])))\n",
        "P_C=[(((r1*c1)/N)*((N-1)*(xC[0]+xD[0]))-sigma)+(r2*c2)*(1-(1-((xA[0]+xB[0])**N))/(N*(xC[0]+xD[0])))*(xD[0]/(xC[0]+xD[0]))]\n",
        "P_D=((r2*c2)*(1-(1-((xA[0]+xB[0])**N))/(N*(xC[0]+xD[0])))*(xD[0]/(xC[0]+xD[0])))\n",
        "#P_A=[((r1*c1)/N)*((N-1)*(xC[0]+xD[0]))+(r2*c2)*(1-(1-((xC[0]+xD[0])**N))/(N*(xA[0]+xB[0])))*(xB[0]/(xA[0]+xB[0]))]\n",
        "#P_B=[c2*(1-(r2*(1-(xC[0]+xD[0])**N))/(N*(xA[0]+xB[0])))+((r1*c1)/N)*((N-1)*(xC[0]+xD[0]))]\n",
        "#P_C=[(((r1*c1)/N)*((N-1)*(xC[0]+xD[0]))-sigma)+(r2*c2)*(1-(1-((xA[0]+xB[0])**N))/(N*(xC[0]+xD[0])))*(xD[0]/(xC[0]+xD[0]))]\n",
        "#P_D=[(((r1*c1)/N)*((N-1)*(xC[0]+xD[0]))-sigma)+c2*(1-(r2*(1-(xA[0]+xB[0])**N))/(N*(xC[0]+xD[0])))]\n",
        "# P_D=[(((r1*c1)/N)*((N-1)*(xC[0]+xD[0]))-sigma)+c2*(1-(r2*(1-(xC[0]+xD[0])**N))/(N*(xC[0]+xD[0])))]\n",
        "\n",
        "\n",
        "T= 100\n",
        "dt = 1\n",
        "\n",
        "FA = []\n",
        "FB = []\n",
        "FC = []\n",
        "FD = []\n",
        "\n",
        "F = []\n",
        "\n",
        "\n",
        "for t in range(T):\n",
        "    \n",
        "    fA = xA[t]*xA[t]*xA[t]*xD[t]*P_A[t]+xA[t]*xB[t]*xB[t]*xB[t]*P_A[t]+xA[t]*xC[t]*xC[t]*xC[t]*P_A[t]+xA[t]*xD[t]*xD[t]*xD[t]*P_A[t]+xA[t]*xA[t]*xB[t]*xB[t]*P_A[t]+xA[t]*xA[t]*xC[t]*xC[t]*P_A[t]+xA[t]*xA[t]*xD[t]*xD[t]*P_A[t]+xA[t]*xA[t]*xB[t]*xC[t]*P_A[t]+xA[t]*xA[t]*xB[t]*xD[t]*P_A[t]+xA[t]*xA[t]*xC[t]*xD[t]*P_A[t]+xA[t]*xB[t]*xB[t]*xC[t]*P_A[t]+xA[t]*xB[t]*xB[t]*xD[t]*P_A[t]+xA[t]*xC[t]*xC[t]*xB[t]*P_A[t]+xA[t]*xC[t]*xC[t]*xD[t]*P_A[t]+xA[t]*xD[t]*xD[t]*xB[t]*P_A[t]+xA[t]*xD[t]*xD[t]*xC[t]*P_A[t]+xA[t]*xB[t]*xC[t]*xD[t]*P_A[t]+xB[t]*xB[t]*xB[t]*xB[t]*P_A[t]+xB[t]*xA[t]*xA[t]*xA[t]*P_A[t]+xB[t]*xB[t]*xB[t]*xA[t]*P_A[t]+xB[t]*xB[t]*xB[t]*xC[t]*P_A[t]+xB[t]*xB[t]*xB[t]*xD[t]*P_A[t]+xB[t]*xC[t]*xC[t]*xC[t]*P_A[t]+xB[t]*xD[t]*xD[t]*xD[t]*P_A[t]+xB[t]*xA[t]*xA[t]*xB[t]*P_A[t]+xB[t]*xB[t]*xC[t]*xC[t]*P_A[t]+xB[t]*xB[t]*xD[t]*xD[t]*P_A[t]+xB[t]*xA[t]*xA[t]*xC[t]*P_A[t]+xB[t]*xA[t]*xA[t]*xD[t]*P_A[t]+xB[t]*xB[t]*xA[t]*xC[t]*P_A[t]+xB[t]*xB[t]*xA[t]*xD[t]*P_A[t]+xB[t]*xB[t]*xC[t]*xD[t]*P_A[t]+xB[t]*xC[t]*xC[t]*xA[t]*P_A[t]+xB[t]*xC[t]*xC[t]*xD[t]*P_A[t]+xB[t]*xD[t]*xD[t]*xA[t]*P_A[t]+xB[t]*xD[t]*xD[t]*xC[t]*P_A[t]+xB[t]*xA[t]*xC[t]*xD[t]*P_A[t]+xC[t]*xC[t]*xC[t]*xC[t]*P_A[t]+xC[t]*xA[t]*xA[t]*xA[t]*P_A[t]+xC[t]*xB[t]*xB[t]*xB[t]*P_A[t]+xC[t]*xC[t]*xC[t]*xA[t]*P_A[t]+xC[t]*xC[t]*xC[t]*xB[t]*P_A[t]+xC[t]*xC[t]*xC[t]*xD[t]*P_A[t]+xC[t]*xD[t]*xD[t]*xD[t]*P_A[t]+xC[t]*xA[t]*xA[t]*xC[t]*P_A[t]+xC[t]*xB[t]*xB[t]*xC[t]*P_A[t]+xC[t]*xC[t]*xD[t]*xD[t]*P_A[t]+xC[t]*xA[t]*xA[t]*xB[t]*P_A[t]+xC[t]*xA[t]*xA[t]*xD[t]*P_A[t]+xC[t]*xB[t]*xA[t]*xC[t]*P_A[t]+xC[t]*xB[t]*xB[t]*xD[t]*P_A[t]+xC[t]*xC[t]*xA[t]*xB[t]*P_A[t]+xC[t]*xC[t]*xA[t]*xD[t]*P_A[t]+xC[t]*xC[t]*xB[t]*xD[t]*P_A[t]+xC[t]*xD[t]*xD[t]*xA[t]*P_A[t]+xC[t]*xD[t]*xD[t]*xB[t]*P_A[t]+xC[t]*xA[t]*xB[t]*xD[t]*P_A[t]+xD[t]*xD[t]*xD[t]*xD[t]*P_A[t]+xD[t]*xA[t]*xA[t]*xA[t]*P_A[t]+xD[t]*xB[t]*xB[t]*xB[t]*P_A[t]+xD[t]*xC[t]*xC[t]*xC[t]*P_A[t]+xD[t]*xD[t]*xD[t]*xA[t]*P_A[t]+xD[t]*xD[t]*xD[t]*xB[t]*P_A[t]+xD[t]*xD[t]*xD[t]*xC[t]*P_A[t]+xD[t]*xA[t]*xA[t]*xD[t]*P_A[t]+xD[t]*xB[t]*xB[t]*xD[t]*P_A[t]+xD[t]*xC[t]*xD[t]*xD[t]*P_A[t]+xD[t]*xA[t]*xA[t]*xB[t]*P_A[t]+xD[t]*xA[t]*xA[t]*xC[t]*P_A[t]+xD[t]*xB[t]*xB[t]*xA[t]*P_A[t]+xD[t]*xB[t]*xB[t]*xD[t]*P_A[t]+xD[t]*xC[t]*xC[t]*xA[t]*P_A[t]+xD[t]*xC[t]*xC[t]*xB[t]*P_A[t]+xD[t]*xA[t]*xB[t]*xD[t]*P_A[t]+xD[t]*xD[t]*xA[t]*xC[t]*P_A[t]+xD[t]*xD[t]*xB[t]*xC[t]*P_A[t]+xD[t]*xA[t]*xB[t]*xC[t]*P_A[t]\n",
        "\n",
        "    fB = xA[t]*xB[t]*xB[t]*xB[t]*P_B[t]+xA[t]*xC[t]*xC[t]*xC[t]*P_B[t]+xA[t]*xD[t]*xD[t]*xD[t]*P_B[t]+xA[t]*xA[t]*xB[t]*xB[t]*P_B[t]+xA[t]*xA[t]*xC[t]*xC[t]*P_B[t]+xA[t]*xA[t]*xD[t]*xD[t]*P_B[t]+xA[t]*xA[t]*xB[t]*xC[t]*P_B[t]+xA[t]*xA[t]*xB[t]*xD[t]*P_B[t]+xA[t]*xA[t]*xC[t]*xD[t]*P_B[t]+xA[t]*xB[t]*xB[t]*xC[t]*P_B[t]+xA[t]*xB[t]*xB[t]*xD[t]*P_B[t]+xA[t]*xC[t]*xC[t]*xB[t]*P_B[t]+xA[t]*xC[t]*xC[t]*xD[t]*P_B[t]+xA[t]*xD[t]*xD[t]*xB[t]*P_B[t]+xA[t]*xD[t]*xD[t]*xC[t]*P_B[t]+xA[t]*xB[t]*xC[t]*xD[t]*P_B[t]+xB[t]*xB[t]*xB[t]*xB[t]*P_B[t]+xB[t]*xA[t]*xA[t]*xA[t]*P_B[t]+xB[t]*xB[t]*xB[t]*xA[t]*P_B[t]+xB[t]*xB[t]*xB[t]*xC[t]*P_B[t]+xB[t]*xB[t]*xB[t]*xD[t]*P_B[t]+xB[t]*xC[t]*xC[t]*xC[t]*P_B[t]+xB[t]*xD[t]*xD[t]*xD[t]*P_B[t]+xB[t]*xA[t]*xA[t]*xB[t]*P_B[t]+xB[t]*xB[t]*xC[t]*xC[t]*P_B[t]+xB[t]*xB[t]*xD[t]*xD[t]*P_B[t]+xB[t]*xA[t]*xA[t]*xC[t]*P_B[t]+xB[t]*xA[t]*xA[t]*xD[t]*P_B[t]+xB[t]*xB[t]*xA[t]*xC[t]*P_B[t]+xB[t]*xB[t]*xA[t]*xD[t]*P_B[t]+xB[t]*xB[t]*xC[t]*xD[t]*P_B[t]+xB[t]*xC[t]*xC[t]*xA[t]*P_B[t]+xB[t]*xC[t]*xC[t]*xD[t]*P_B[t]+xB[t]*xD[t]*xD[t]*xA[t]*P_B[t]+xB[t]*xD[t]*xD[t]*xC[t]*P_B[t]+xB[t]*xA[t]*xC[t]*xD[t]*P_B[t]+xC[t]*xC[t]*xC[t]*xC[t]*P_B[t]+xC[t]*xA[t]*xA[t]*xA[t]*P_B[t]+xC[t]*xB[t]*xB[t]*xB[t]*P_B[t]+xC[t]*xC[t]*xC[t]*xA[t]*P_B[t]+xC[t]*xC[t]*xC[t]*xB[t]*P_B[t]+xC[t]*xC[t]*xC[t]*xD[t]*P_B[t]+xC[t]*xD[t]*xD[t]*xD[t]*P_B[t]+xC[t]*xA[t]*xA[t]*xC[t]*P_B[t]+xC[t]*xB[t]*xB[t]*xC[t]*P_B[t]+xC[t]*xC[t]*xD[t]*xD[t]*P_B[t]+xC[t]*xA[t]*xA[t]*xB[t]*P_B[t]+xC[t]*xA[t]*xA[t]*xD[t]*P_B[t]+xC[t]*xB[t]*xA[t]*xC[t]*P_B[t]+xC[t]*xB[t]*xB[t]*xD[t]*P_B[t]+xC[t]*xC[t]*xA[t]*xB[t]*P_B[t]+xC[t]*xC[t]*xA[t]*xD[t]*P_B[t]+xC[t]*xC[t]*xB[t]*xD[t]*P_B[t]+xC[t]*xD[t]*xD[t]*xA[t]*P_B[t]+xC[t]*xD[t]*xD[t]*xB[t]*P_B[t]+xC[t]*xA[t]*xB[t]*xD[t]*P_B[t]+xD[t]*xD[t]*xD[t]*xD[t]*P_B[t]+xD[t]*xA[t]*xA[t]*xA[t]*P_B[t]+xD[t]*xB[t]*xB[t]*xB[t]*P_B[t]+xD[t]*xC[t]*xC[t]*xC[t]*P_B[t]+xD[t]*xD[t]*xD[t]*xA[t]*P_B[t]+xD[t]*xD[t]*xD[t]*xB[t]*P_B[t]+xD[t]*xD[t]*xD[t]*xC[t]*P_B[t]+xD[t]*xA[t]*xA[t]*xD[t]*P_B[t]+xD[t]*xB[t]*xB[t]*xD[t]*P_B[t]+xD[t]*xC[t]*xD[t]*xD[t]*P_B[t]+xD[t]*xA[t]*xA[t]*xB[t]*P_B[t]+xD[t]*xA[t]*xA[t]*xC[t]*P_B[t]+xD[t]*xB[t]*xB[t]*xA[t]*P_B[t]+xD[t]*xB[t]*xB[t]*xD[t]*P_B[t]+xD[t]*xC[t]*xC[t]*xA[t]*P_B[t]+xD[t]*xC[t]*xC[t]*xB[t]*P_B[t]+xD[t]*xA[t]*xB[t]*xD[t]*P_B[t]+xD[t]*xD[t]*xA[t]*xC[t]*P_B[t]+xD[t]*xD[t]*xB[t]*xC[t]*P_B[t]+xD[t]*xA[t]*xB[t]*xC[t]*P_B[t]\n",
        "\n",
        "    fC = xA[t]*xB[t]*xB[t]*xB[t]*P_C[t]+xA[t]*xC[t]*xC[t]*xC[t]*P_C[t]+xA[t]*xD[t]*xD[t]*xD[t]*P_C[t]+xA[t]*xA[t]*xB[t]*xB[t]*P_C[t]+xA[t]*xA[t]*xC[t]*xC[t]*P_C[t]+xA[t]*xA[t]*xD[t]*xD[t]*P_C[t]+xA[t]*xA[t]*xB[t]*xC[t]*P_C[t]+xA[t]*xA[t]*xB[t]*xD[t]*P_C[t]+xA[t]*xA[t]*xC[t]*xD[t]*P_C[t]+xA[t]*xB[t]*xB[t]*xC[t]*P_C[t]+xA[t]*xB[t]*xB[t]*xD[t]*P_C[t]+xA[t]*xC[t]*xC[t]*xB[t]*P_C[t]+xA[t]*xC[t]*xC[t]*xD[t]*P_C[t]+xA[t]*xD[t]*xD[t]*xB[t]*P_C[t]+xA[t]*xD[t]*xD[t]*xC[t]*P_C[t]+xA[t]*xB[t]*xC[t]*xD[t]*P_C[t]+xB[t]*xB[t]*xB[t]*xB[t]*P_C[t]+xB[t]*xA[t]*xA[t]*xA[t]*P_C[t]+xB[t]*xB[t]*xB[t]*xA[t]*P_C[t]+xB[t]*xB[t]*xB[t]*xC[t]*P_C[t]+xB[t]*xB[t]*xB[t]*xD[t]*P_C[t]+xB[t]*xC[t]*xC[t]*xC[t]*P_C[t]+xB[t]*xD[t]*xD[t]*xD[t]*P_C[t]+xB[t]*xA[t]*xA[t]*xB[t]*P_C[t]+xB[t]*xB[t]*xC[t]*xC[t]*P_C[t]+xB[t]*xB[t]*xD[t]*xD[t]*P_C[t]+xB[t]*xA[t]*xA[t]*xC[t]*P_C[t]+xB[t]*xA[t]*xA[t]*xD[t]*P_C[t]+xB[t]*xB[t]*xA[t]*xC[t]*P_C[t]+xB[t]*xB[t]*xA[t]*xD[t]*P_C[t]+xB[t]*xB[t]*xC[t]*xD[t]*P_C[t]+xB[t]*xC[t]*xC[t]*xA[t]*P_C[t]+xB[t]*xC[t]*xC[t]*xD[t]*P_C[t]+xB[t]*xD[t]*xD[t]*xA[t]*P_C[t]+xB[t]*xD[t]*xD[t]*xC[t]*P_C[t]+xB[t]*xA[t]*xC[t]*xD[t]*P_C[t]+xC[t]*xC[t]*xC[t]*xC[t]*P_C[t]+xC[t]*xA[t]*xA[t]*xA[t]*P_C[t]+xC[t]*xB[t]*xB[t]*xB[t]*P_C[t]+xC[t]*xC[t]*xC[t]*xA[t]*P_C[t]+xC[t]*xC[t]*xC[t]*xB[t]*P_C[t]+xC[t]*xC[t]*xC[t]*xD[t]*P_C[t]+xC[t]*xD[t]*xD[t]*xD[t]*P_C[t]+xC[t]*xA[t]*xA[t]*xC[t]*P_C[t]+xC[t]*xB[t]*xB[t]*xC[t]*P_C[t]+xC[t]*xC[t]*xD[t]*xD[t]*P_C[t]+xC[t]*xA[t]*xA[t]*xB[t]*P_C[t]+xC[t]*xA[t]*xA[t]*xD[t]*P_C[t]+xC[t]*xB[t]*xA[t]*xC[t]*P_C[t]+xC[t]*xB[t]*xB[t]*xD[t]*P_C[t]+xC[t]*xC[t]*xA[t]*xB[t]*P_C[t]+xC[t]*xC[t]*xA[t]*xD[t]*P_C[t]+xC[t]*xC[t]*xB[t]*xD[t]*P_C[t]+xC[t]*xD[t]*xD[t]*xA[t]*P_C[t]+xC[t]*xD[t]*xD[t]*xB[t]*P_C[t]+xC[t]*xA[t]*xB[t]*xD[t]*P_C[t]+xD[t]*xD[t]*xD[t]*xD[t]*P_C[t]+xD[t]*xA[t]*xA[t]*xA[t]*P_C[t]+xD[t]*xB[t]*xB[t]*xB[t]*P_C[t]+xD[t]*xC[t]*xC[t]*xC[t]*P_C[t]+xD[t]*xD[t]*xD[t]*xA[t]*P_C[t]+xD[t]*xD[t]*xD[t]*xB[t]*P_C[t]+xD[t]*xD[t]*xD[t]*xC[t]*P_C[t]+xD[t]*xA[t]*xA[t]*xD[t]*P_C[t]+xD[t]*xB[t]*xB[t]*xD[t]*P_C[t]+xD[t]*xC[t]*xD[t]*xD[t]*P_C[t]+xD[t]*xA[t]*xA[t]*xB[t]*P_C[t]+xD[t]*xA[t]*xA[t]*xC[t]*P_C[t]+xD[t]*xB[t]*xB[t]*xA[t]*P_C[t]+xD[t]*xB[t]*xB[t]*xD[t]*P_C[t]+xD[t]*xC[t]*xC[t]*xA[t]*P_C[t]+xD[t]*xC[t]*xC[t]*xB[t]*P_C[t]+xD[t]*xA[t]*xB[t]*xD[t]*P_C[t]+xD[t]*xD[t]*xA[t]*xC[t]*P_C[t]+xD[t]*xD[t]*xB[t]*xC[t]*P_C[t]+xD[t]*xA[t]*xB[t]*xC[t]*P_C[t]\n",
        "\n",
        "    fD = xA[t]*xA[t]*xA[t]*xD[t]*P_D[t]+xA[t]*xB[t]*xB[t]*xB[t]*P_D[t]+xA[t]*xC[t]*xC[t]*xC[t]*P_D[t]+xA[t]*xD[t]*xD[t]*xD[t]*P_D[t]+xA[t]*xA[t]*xB[t]*xB[t]*P_D[t]+xA[t]*xA[t]*xC[t]*xC[t]*P_D[t]+xA[t]*xA[t]*xD[t]*xD[t]*P_D[t]+xA[t]*xA[t]*xB[t]*xC[t]*P_D[t]+xA[t]*xA[t]*xB[t]*xD[t]*P_D[t]+xA[t]*xA[t]*xC[t]*xD[t]*P_D[t]+xA[t]*xB[t]*xB[t]*xC[t]*P_D[t]+xA[t]*xB[t]*xB[t]*xD[t]*P_D[t]+xA[t]*xC[t]*xC[t]*xB[t]*P_D[t]+xA[t]*xC[t]*xC[t]*xD[t]*P_D[t]+xA[t]*xD[t]*xD[t]*xB[t]*P_D[t]+xA[t]*xD[t]*xD[t]*xC[t]*P_D[t]+xA[t]*xB[t]*xC[t]*xD[t]*P_D[t]+xB[t]*xB[t]*xB[t]*xB[t]*P_D[t]+xB[t]*xA[t]*xA[t]*xA[t]*P_D[t]+xB[t]*xB[t]*xB[t]*xA[t]*P_D[t]+xB[t]*xB[t]*xB[t]*xC[t]*P_D[t]+xB[t]*xB[t]*xB[t]*xD[t]*P_D[t]+xB[t]*xC[t]*xC[t]*xC[t]*P_D[t]+xB[t]*xD[t]*xD[t]*xD[t]*P_D[t]+xB[t]*xA[t]*xA[t]*xB[t]*P_D[t]+xB[t]*xB[t]*xC[t]*xC[t]*P_D[t]+xB[t]*xB[t]*xD[t]*xD[t]*P_D[t]+xB[t]*xA[t]*xA[t]*xC[t]*P_D[t]+xB[t]*xA[t]*xA[t]*xD[t]*P_D[t]+xB[t]*xB[t]*xA[t]*xC[t]*P_D[t]+xB[t]*xB[t]*xA[t]*xD[t]*P_D[t]+xB[t]*xB[t]*xC[t]*xD[t]*P_D[t]+xB[t]*xC[t]*xC[t]*xA[t]*P_D[t]+xB[t]*xC[t]*xC[t]*xD[t]*P_D[t]+xB[t]*xD[t]*xD[t]*xA[t]*P_D[t]+xB[t]*xD[t]*xD[t]*xC[t]*P_D[t]+xB[t]*xA[t]*xC[t]*xD[t]*P_D[t]+xC[t]*xC[t]*xC[t]*xC[t]*P_D[t]+xC[t]*xA[t]*xA[t]*xA[t]*P_D[t]+xC[t]*xB[t]*xB[t]*xB[t]*P_D[t]+xC[t]*xC[t]*xC[t]*xA[t]*P_D[t]+xC[t]*xC[t]*xC[t]*xB[t]*P_D[t]+xC[t]*xC[t]*xC[t]*xD[t]*P_D[t]+xC[t]*xD[t]*xD[t]*xD[t]*P_D[t]+xC[t]*xA[t]*xA[t]*xC[t]*P_D[t]+xC[t]*xB[t]*xB[t]*xC[t]*P_D[t]+xC[t]*xC[t]*xD[t]*xD[t]*P_D[t]+xC[t]*xA[t]*xA[t]*xB[t]*P_D[t]+xC[t]*xA[t]*xA[t]*xD[t]*P_D[t]+xC[t]*xB[t]*xA[t]*xC[t]*P_D[t]+xC[t]*xB[t]*xB[t]*xD[t]*P_D[t]+xC[t]*xC[t]*xA[t]*xB[t]*P_D[t]+xC[t]*xC[t]*xA[t]*xD[t]*P_D[t]+xC[t]*xC[t]*xB[t]*xD[t]*P_D[t]+xC[t]*xD[t]*xD[t]*xA[t]*P_D[t]+xC[t]*xD[t]*xD[t]*xB[t]*P_D[t]+xC[t]*xA[t]*xB[t]*xD[t]*P_D[t]+xD[t]*xD[t]*xD[t]*xD[t]*P_D[t]+xD[t]*xA[t]*xA[t]*xA[t]*P_D[t]+xD[t]*xB[t]*xB[t]*xB[t]*P_D[t]+xD[t]*xC[t]*xC[t]*xC[t]*P_D[t]+xD[t]*xD[t]*xD[t]*xA[t]*P_D[t]+xD[t]*xD[t]*xD[t]*xB[t]*P_D[t]+xD[t]*xD[t]*xD[t]*xC[t]*P_D[t]+xD[t]*xA[t]*xA[t]*xD[t]*P_D[t]+xD[t]*xB[t]*xB[t]*xD[t]*P_D[t]+xD[t]*xC[t]*xD[t]*xD[t]*P_D[t]+xD[t]*xA[t]*xA[t]*xB[t]*P_D[t]+xD[t]*xA[t]*xA[t]*xC[t]*P_D[t]+xD[t]*xB[t]*xB[t]*xA[t]*P_D[t]+xD[t]*xB[t]*xB[t]*xD[t]*P_D[t]+xD[t]*xC[t]*xC[t]*xA[t]*P_D[t]+xD[t]*xC[t]*xC[t]*xB[t]*P_D[t]+xD[t]*xA[t]*xB[t]*xD[t]*P_D[t]+xD[t]*xD[t]*xA[t]*xC[t]*P_D[t]+xD[t]*xD[t]*xB[t]*xC[t]*P_D[t]+xD[t]*xA[t]*xB[t]*xC[t]*P_D[t]\n",
        "\n",
        "    f = xA[t] * fA + xB[t] * fB + xC[t] * fC + xD[t] * fD\n",
        "\n",
        "    \n",
        "\n",
        "    FA.append(fA*dt)\n",
        "    FB.append(fB*dt)\n",
        "    FC.append(fC*dt)\n",
        "    FD.append(fD*dt)\n",
        "    F.append(f*dt)\n",
        "    xA.append(xA[t] + (xA[t-2] * (fA - f)) * dt)\n",
        "    xB.append(xB[t] + (xB[t-2] * (fB - f)) * dt)\n",
        "    xC.append(xC[t] + (xC[t-2] * (fC - f)) * dt)\n",
        "    xD.append(xD[t] + (xD[t-2] * (fD - f)) * dt)\n",
        "    \n",
        "    P_A.append(((r1*c1)/N)*((N-1)*(xC[t+1]+xD[t+1]))+(r2*c2)*(1-(1-((xC[t+1]+xD[t+1])**N))/(N*(xA[t+1]+xB[t+1])))*(xB[t+1]/(xA[t+1]+xB[t+1])))\n",
        "    P_B.append(((r1*c1)/N)*((N-1)*(xC[t+1]+xD[t+1]))+((r2*c2)*(1-(1-((xC[t+1]+xD[t+1])**N))/(N*(xA[t+1]+xB[t+1])))*(xB[t+1]/(xA[t+1]+xB[t+1])))-c2*(1-(r2*(1-(xC[t+1]+xD[t+1])**N))/(N*(xA[t+1]+xB[t+1]))))\n",
        "    P_C.append((((r1*c1)/N)*((N-1)*(xC[t+1]+xD[t+1]))-sigma)+(r2*c2)*(1-(1-((xA[t+1]+xB[t+1])**N))/(N*(xC[t+1]+xD[t+1])))*(xD[t+1]/(xC[t+1]+xD[t+1])))\n",
        "    P_D.append((((r1*c1)/N)*((N-1)*(xC[t+1]+xD[t+1]))-sigma)+((r2*c2)*(1-(1-((xA[t+1]+xB[t+1])**N))/(N*(xC[t+1]+xD[t+1])))*(xD[t+1]/(xC[t+1]+xD[t+1])))-c2*(1-(r2*(1-(xA[t+1]+xB[t+1])**N))/(N*(xC[t+1]+xD[t+1]))))\n",
        "    #P_A.append(((r1*c1)/N)*((N-1)*(xC[t+1]+xD[t+1]))+(r2*c2)*(1-(1-((xC[t+1]+xD[t+1])**N))/(N*(xA[t+1]+xB[t+1])))*(xB[t+1]/(xA[t+1]+xB[t+1])))\n",
        "    #P_B.append(c2*(1-(r2*(1-(xC[t+1]+xD[t+1])**N))/(N*(xA[t+1]+xB[t+1])))+((r1*c1)/N)*((N-1)*(xC[t+1]+xD[t+1])))\n",
        "    #P_C.append((((r1*c1)/N)*((N-1)*(xC[t+1]+xD[t+1]))-sigma)+(r2*c2)*(1-(1-((xA[t+1]+xB[t+1])**N))/(N*(xC[t+1]+xD[t+1])))*(xD[t+1]/(xC[t+1]+xD[t+1])))\n",
        "    #P_D.append((((r1*c1)/N)*((N-1)*(xC[t+1]+xD[t+1]))-sigma)+c2*(1-(r2*(1-(xA[t+1]+xB[t+1])**N))/(N*(xC[t+1]+xD[t+1]))))\n",
        "    # P_D.append((((r1*c1)/N)*((N-1)*(xC[t+1]+xD[t+1]))-sigma)+c2*(1-(r2*(1-(xC[t+1]+xD[t+1])**N))/(N*(xC[t+1]+xD[t+1]))))\n",
        "    \n"
      ],
      "execution_count": 4,
      "outputs": [
        {
          "output_type": "error",
          "ename": "SyntaxError",
          "evalue": "ignored",
          "traceback": [
            "\u001b[0;36m  File \u001b[0;32m\"<ipython-input-4-9789b201f2f7>\"\u001b[0;36m, line \u001b[0;32m19\u001b[0m\n\u001b[0;31m    P_C=[(((r1*c1)/N)*((N-1)*(xC[0]+xD[0]))-sigma)+(r2*c2)*(1-(1-((xA[0]+xB[0])**N))/(N*(xC[0]+xD[0])))*(xD[0]/(xC[0]+xD[0]))]\u001b[0m\n\u001b[0m      ^\u001b[0m\n\u001b[0;31mSyntaxError\u001b[0m\u001b[0;31m:\u001b[0m invalid syntax\n"
          ]
        }
      ]
    },
    {
      "cell_type": "code",
      "metadata": {
        "id": "i-ECKVqbRe9H"
      },
      "source": [
        "plt.plot(x, 'r', label ='share of strategy D')\n",
        "plt.plot(y, 'b', label ='share of strategy RD')\n",
        "plt.plot(z, 'r', label ='share of strategy C')\n",
        "plt.plot(w, 'b', label ='share of strategy RC')\n",
        "plt.plot(Fx, 'r--', label ='fitness of strategy D')\n",
        "plt.plot(Fy, 'b--', label ='fitness of strategy RD')\n",
        "plt.plot(Fz, 'b--', label ='fitness of strategy C')\n",
        "plt.plot(Fw, 'b--', label ='fitness of strategy RC')\n",
        "plt.plot(F, 'g--', label ='mean population fitness')\n",
        "plt.grid()\n",
        "plt.ylim(0, 1)\n",
        "plt.legend(loc='best')"
      ],
      "execution_count": null,
      "outputs": []
    },
    {
      "cell_type": "code",
      "metadata": {
        "id": "LqFJL7o7Ji1r"
      },
      "source": [
        "for t in range(1,T+1,1):\n",
        "    \n",
        "    UpdateParameters(t)\n",
        "    fx =  x[t] * a + y[t] * b + z[t] * c + w[t] * d\n",
        "    fy =  x[t] * e + y[t] * f + z[t] * g + w[t] * h\n",
        "    fz =  x[t] * ii + y[t] * j + z[t] * k + w[t] * l\n",
        "    fw =  x[t] * m + y[t] * n + z[t] * o + w[t] * p\n",
        "    f  =  x[t] * fx + y[t] * fy + z[t] * fz + w[t] * fw\n",
        "    if t<T:\n",
        "      Fx[t+1]=fx*dt\n",
        "      Fy[t+1]=fy*dt\n",
        "      Fz[t+1]=fz*dt\n",
        "      Fw[t+1]=fw*dt\n",
        "      F[t+1]=f*dt\n",
        "      \n",
        "      x[t+1]=x[t] + (x[t] * (fx - f)) * dt\n",
        "      y[t+1]=y[t] + (y[t] * (fy - f)) * dt\n",
        "      z[t+1]=z[t] + (z[t] * (fz - f)) * dt\n",
        "      w[t+1]=w[t] + (w[t] * (fw - f)) * dt"
      ],
      "execution_count": null,
      "outputs": []
    },
    {
      "cell_type": "code",
      "metadata": {
        "id": "omfLcAf7Ji1t"
      },
      "source": [
        "plt.plot(x, 'r', label ='share of strategy D')\n",
        "plt.plot(y, 'b', label ='share of strategy RD')\n",
        "plt.plot(z, 'r', label ='share of strategy C')\n",
        "plt.plot(w, 'b', label ='share of strategy RC')\n",
        "plt.plot(Fx, 'r--', label ='fitness of strategy D')\n",
        "plt.plot(Fy, 'b--', label ='fitness of strategy RD')\n",
        "plt.plot(Fz, 'b--', label ='fitness of strategy C')\n",
        "plt.plot(Fw, 'b--', label ='fitness of strategy RC')\n",
        "plt.plot(F, 'g--', label ='mean population fitness')\n",
        "plt.grid()\n",
        "plt.ylim(0, 1)\n",
        "plt.legend(loc='best')"
      ],
      "execution_count": null,
      "outputs": []
    },
    {
      "cell_type": "code",
      "metadata": {
        "id": "ioBL79MJddFc"
      },
      "source": [
        ""
      ],
      "execution_count": null,
      "outputs": []
    },
    {
      "cell_type": "code",
      "metadata": {
        "id": "P-OdcFmDJi1t"
      },
      "source": [
        "\n"
      ],
      "execution_count": null,
      "outputs": []
    },
    {
      "cell_type": "code",
      "metadata": {
        "id": "FfinF5dbdJje"
      },
      "source": [
        ""
      ],
      "execution_count": null,
      "outputs": []
    },
    {
      "cell_type": "code",
      "metadata": {
        "id": "3wREcwc6dMA8"
      },
      "source": [
        ""
      ],
      "execution_count": null,
      "outputs": []
    },
    {
      "cell_type": "code",
      "metadata": {
        "id": "XM6LMFfUdZUD"
      },
      "source": [
        "plt.figure(figsize=(20,10))\n",
        "plt.plot(xA, 'r', label ='share of strategy D')\n",
        "plt.plot(xB, 'b', label ='share of strategy RD')\n",
        "plt.plot(xC, 'g', label ='share of strategy C')\n",
        "plt.plot(xD, 'y', label ='share of strategy RC')\n",
        "plt.plot(FA, 'r--', label ='fitness of strategy D')\n",
        "plt.plot(FB, 'b--', label ='fitness of strategy RD')\n",
        "plt.plot(FC, 'g--', label ='fitness of strategy C')\n",
        "plt.plot(FD, 'y--', label ='fitness of strategy RC')\n",
        "plt.plot(F, 'k--', label ='mean population fitness')\n",
        "plt.ylim(0,1)\n",
        "plt.grid()\n",
        "\n",
        "plt.legend(loc='best')"
      ],
      "execution_count": null,
      "outputs": []
    },
    {
      "cell_type": "code",
      "metadata": {
        "id": "GuIxRHahNvOo"
      },
      "source": [
        ""
      ],
      "execution_count": null,
      "outputs": []
    }
  ]
}